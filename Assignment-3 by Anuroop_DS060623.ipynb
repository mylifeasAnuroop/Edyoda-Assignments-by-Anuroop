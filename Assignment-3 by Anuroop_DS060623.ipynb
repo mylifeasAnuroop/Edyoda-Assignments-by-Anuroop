{
 "cells": [
  {
   "cell_type": "markdown",
   "id": "161130d3",
   "metadata": {},
   "source": [
    "### Assignment-3"
   ]
  },
  {
   "cell_type": "markdown",
   "id": "2c5515d3",
   "metadata": {},
   "source": [
    "#### Q.1-Write a Python function to sum all the numbers in a list.\n",
    "\n",
    "\n",
    "\n",
    "Sample List : (8, 2, 3, 0, 7)"
   ]
  },
  {
   "cell_type": "code",
   "execution_count": 1,
   "id": "c790e7ee",
   "metadata": {},
   "outputs": [
    {
     "name": "stdout",
     "output_type": "stream",
     "text": [
      "20\n"
     ]
    }
   ],
   "source": [
    "def sum_of_list(numbers):\n",
    "    return sum(numbers)\n",
    "\n",
    "sample_list = [8, 2, 3, 0, 7]\n",
    "result = sum_of_list(sample_list)\n",
    "print(result)\n"
   ]
  },
  {
   "cell_type": "markdown",
   "id": "29c04c01",
   "metadata": {},
   "source": [
    "#### Q.2-Write a Python program to reverse a string.\n",
    "﻿Sample String : \"1234abcd\"\n"
   ]
  },
  {
   "cell_type": "code",
   "execution_count": 2,
   "id": "b1ee4485",
   "metadata": {},
   "outputs": [
    {
     "name": "stdout",
     "output_type": "stream",
     "text": [
      "dcba4321\n"
     ]
    }
   ],
   "source": [
    "def reverse_string(string):\n",
    "    return string[::-1]\n",
    "\n",
    "sample_string = \"1234abcd\"\n",
    "result = reverse_string(sample_string)\n",
    "print(result)\n"
   ]
  },
  {
   "cell_type": "code",
   "execution_count": 3,
   "id": "6c13aed3",
   "metadata": {},
   "outputs": [
    {
     "name": "stdout",
     "output_type": "stream",
     "text": [
      "Enter a string: EdYoda\n",
      "adoYdE\n"
     ]
    }
   ],
   "source": [
    "# Taking user input:\n",
    "def reverse_string(string):\n",
    "    return string[::-1]\n",
    "\n",
    "user_input = input(\"Enter a string: \")\n",
    "result = reverse_string(user_input)\n",
    "print(result)\n"
   ]
  },
  {
   "cell_type": "markdown",
   "id": "e6afb4f0",
   "metadata": {},
   "source": [
    "#### Q.3- Write a Python function that accepts a string and calculate the number of upper case letters and lower case letters.\n",
    "Sample String : 'The quick Brow Fox'"
   ]
  },
  {
   "cell_type": "code",
   "execution_count": 4,
   "id": "b82963e8",
   "metadata": {},
   "outputs": [
    {
     "name": "stdout",
     "output_type": "stream",
     "text": [
      "Total Upper case characters: 3\n",
      "Total Lower case characters: 12\n"
     ]
    }
   ],
   "source": [
    "def upper_lower(string):\n",
    "    uppercase_count = 0\n",
    "    lowercase_count = 0\n",
    "\n",
    "    for char in string:\n",
    "        if char.isupper():\n",
    "            uppercase_count += 1\n",
    "        elif char.islower():\n",
    "            lowercase_count += 1\n",
    "\n",
    "    return uppercase_count, lowercase_count\n",
    "\n",
    "sample_string = 'The quick Brow Fox'\n",
    "upper_count, lower_count = upper_lower(sample_string)\n",
    "print(\"Total Upper case characters:\", upper_count)\n",
    "print(\"Total Lower case characters:\", lower_count)\n"
   ]
  },
  {
   "cell_type": "code",
   "execution_count": 5,
   "id": "afb2b7b7",
   "metadata": {},
   "outputs": [
    {
     "name": "stdout",
     "output_type": "stream",
     "text": [
      "Enter a string: EdYoda Digital University\n",
      "Total Upper case characters: 4\n",
      "Total Lower case characters: 19\n"
     ]
    }
   ],
   "source": [
    "# Taking user input:\n",
    "def upper_lower(string):\n",
    "    uppercase_count = 0\n",
    "    lowercase_count = 0\n",
    "\n",
    "    for char in string:\n",
    "        if char.isupper():\n",
    "            uppercase_count += 1\n",
    "        elif char.islower():\n",
    "            lowercase_count += 1\n",
    "\n",
    "    return uppercase_count, lowercase_count\n",
    "\n",
    "user_input = input(\"Enter a string: \")\n",
    "upper_count, lower_count = upper_lower(user_input)\n",
    "print(\"Total Upper case characters:\", upper_count)\n",
    "print(\"Total Lower case characters:\", lower_count)\n"
   ]
  },
  {
   "cell_type": "code",
   "execution_count": null,
   "id": "eec08e98",
   "metadata": {},
   "outputs": [],
   "source": []
  },
  {
   "cell_type": "code",
   "execution_count": null,
   "id": "16914264",
   "metadata": {},
   "outputs": [],
   "source": []
  },
  {
   "cell_type": "code",
   "execution_count": null,
   "id": "3a3ad757",
   "metadata": {},
   "outputs": [],
   "source": []
  },
  {
   "cell_type": "code",
   "execution_count": null,
   "id": "7906bd8f",
   "metadata": {},
   "outputs": [],
   "source": []
  },
  {
   "cell_type": "code",
   "execution_count": null,
   "id": "7ca6cf36",
   "metadata": {},
   "outputs": [],
   "source": []
  },
  {
   "cell_type": "code",
   "execution_count": null,
   "id": "66b9c875",
   "metadata": {},
   "outputs": [],
   "source": []
  },
  {
   "cell_type": "code",
   "execution_count": null,
   "id": "2424ce68",
   "metadata": {},
   "outputs": [],
   "source": []
  },
  {
   "cell_type": "code",
   "execution_count": null,
   "id": "e0fbfa25",
   "metadata": {},
   "outputs": [],
   "source": []
  },
  {
   "cell_type": "code",
   "execution_count": null,
   "id": "03e90cb8",
   "metadata": {},
   "outputs": [],
   "source": []
  }
 ],
 "metadata": {
  "kernelspec": {
   "display_name": "Python 3 (ipykernel)",
   "language": "python",
   "name": "python3"
  },
  "language_info": {
   "codemirror_mode": {
    "name": "ipython",
    "version": 3
   },
   "file_extension": ".py",
   "mimetype": "text/x-python",
   "name": "python",
   "nbconvert_exporter": "python",
   "pygments_lexer": "ipython3",
   "version": "3.9.13"
  }
 },
 "nbformat": 4,
 "nbformat_minor": 5
}
