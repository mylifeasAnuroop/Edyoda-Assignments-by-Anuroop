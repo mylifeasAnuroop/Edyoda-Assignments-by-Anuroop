{
 "cells": [
  {
   "cell_type": "markdown",
   "id": "fd7458fe",
   "metadata": {},
   "source": [
    "### Assignment- 5"
   ]
  },
  {
   "cell_type": "markdown",
   "id": "5228c59d",
   "metadata": {},
   "source": [
    "#### Challenge 1: Square Numbers and Return Their Sum\n",
    "In this challenge, you need to implement a method that squares passing variables and returns their sum.\n",
    "\n",
    "Problem statement: Implement a class Point that has three properties and a method. All these attributes \n",
    "(properties and methods) should be public.\n",
    "\n",
    "Task 1: Implement a constructor to initialize the values of three properties: x, y, and z.\n",
    "Task 2: Implement a method, sqSum(), in the Point class which squares x, y, and z and returns their sum."
   ]
  },
  {
   "cell_type": "code",
   "execution_count": 1,
   "id": "83c0ad22",
   "metadata": {},
   "outputs": [
    {
     "name": "stdout",
     "output_type": "stream",
     "text": [
      "35\n"
     ]
    }
   ],
   "source": [
    "class Point:\n",
    "\n",
    "    def __init__(self, x, y, z):\n",
    "        self.x = x\n",
    "        self.y = y\n",
    "        self.z = z\n",
    "\n",
    "    def sqSum(self):\n",
    "        return self.x**2 + self.y**2 + self.z**2\n",
    "\n",
    "# Sample properties: x=1, y=3, z=5\n",
    "point = Point(1, 3, 5)\n",
    "print(point.sqSum())  \n"
   ]
  },
  {
   "cell_type": "markdown",
   "id": "85c22324",
   "metadata": {},
   "source": [
    "#### Challenge 2: Implement a Calculator Class\n",
    "In this exercise, you have to implement a calculator that can perform addition, subtraction, multiplication, and division.\n",
    "\n",
    "Problem statement: Write a Python class called Calculator by completing the tasks below:\n",
    "\n",
    "•Task 1-Initializer\n",
    "Implement an initializer to initialize the values of num1 and num2. Properties\n",
    "\n",
    "Task 2-Methods\n",
    "• add() is a method that returns the sum of num1 and num2.\n",
    "• subtract() is a method that returns the subtraction of num1 from num2.\n",
    "• multiply() is a method that returns the product of num1 and num2.\n",
    "• divide() is a method that returns the division of num2 by num1."
   ]
  },
  {
   "cell_type": "code",
   "execution_count": 2,
   "id": "e847be60",
   "metadata": {},
   "outputs": [
    {
     "name": "stdout",
     "output_type": "stream",
     "text": [
      "104\n",
      "84\n",
      "940\n",
      "9.4\n"
     ]
    }
   ],
   "source": [
    "class Calculator:\n",
    "\n",
    "    def __init__(self, num1, num2):\n",
    "        self.num1 = num1\n",
    "        self.num2 = num2\n",
    "\n",
    "    def add(self):\n",
    "        return self.num1 + self.num2\n",
    "\n",
    "    def subtract(self):\n",
    "        return self.num2 - self.num1\n",
    "\n",
    "    def multiply(self):\n",
    "        return self.num1 * self.num2\n",
    "\n",
    "    def divide(self):\n",
    "        return self.num2 / self.num1\n",
    "\n",
    "# Sample input: num1=10, num2=94\n",
    "obj = Calculator(10, 94)\n",
    "\n",
    "\n",
    "print(obj.add())       \n",
    "print(obj.subtract()) \n",
    "print(obj.multiply())  \n",
    "print(obj.divide())  \n"
   ]
  },
  {
   "cell_type": "code",
   "execution_count": 29,
   "id": "e9b1566d",
   "metadata": {},
   "outputs": [
    {
     "name": "stdout",
     "output_type": "stream",
     "text": [
      "Enter the first number: 2\n",
      "Enter the second number: 4\n",
      "Addition: 6.0\n",
      "Subtraction: 2.0\n",
      "Multiplication: 8.0\n",
      "Division: 2.0\n"
     ]
    }
   ],
   "source": [
    "#By tking user input-\n",
    "class Calculator:\n",
    "\n",
    "    def __init__(self, num1, num2):\n",
    "        self.num1 = num1\n",
    "        self.num2 = num2\n",
    "\n",
    "    def add(self):\n",
    "        return self.num1 + self.num2\n",
    "\n",
    "    def subtract(self):\n",
    "        return self.num2 - self.num1\n",
    "\n",
    "    def multiply(self):\n",
    "        return self.num1 * self.num2\n",
    "\n",
    "    def divide(self):\n",
    "        return self.num2 / self.num1\n",
    "\n",
    "# Taking user input for num1 and num2\n",
    "num1_input = float(input(\"Enter the first number: \"))\n",
    "num2_input = float(input(\"Enter the second number: \"))\n",
    "\n",
    "# Creating a Calculator object with user-provided input\n",
    "obj = Calculator(num1_input, num2_input)\n",
    "\n",
    "# Performing calculations and displaying the results\n",
    "print(\"Addition:\", obj.add())\n",
    "print(\"Subtraction:\", obj.subtract())\n",
    "print(\"Multiplication:\", obj.multiply())\n",
    "print(\"Division:\", obj.divide())\n"
   ]
  },
  {
   "cell_type": "markdown",
   "id": "90f1ac15",
   "metadata": {},
   "source": [
    "#### Challenge 3: Implement the Complete Student Class\n",
    "In this challenge, you will implement a student class \n",
    "Problem statement- Implement the complete Student class by completing the tasks below\n",
    "Task\n",
    "\n",
    "1- Implement the following properties as private:\n",
    "\n",
    "• name\n",
    "• rollNumber\n",
    "\n",
    "2- Include the following methods to get and set the private properties above:\n",
    "\n",
    "• getName()\n",
    "• setName()\n",
    "• getRollNumber()\n",
    "• setRollNumber()\n",
    "\n",
    "3- Implement this class according to the rules of encapsulation."
   ]
  },
  {
   "cell_type": "code",
   "execution_count": 4,
   "id": "b3baa757",
   "metadata": {},
   "outputs": [
    {
     "name": "stdout",
     "output_type": "stream",
     "text": [
      "John Doe\n",
      "12345\n"
     ]
    }
   ],
   "source": [
    "class Student:\n",
    "\n",
    "    def __init__(self):\n",
    "        self._name = None\n",
    "        self._rollNumber = None\n",
    "\n",
    "    def setName(self, name):\n",
    "        self._name = name\n",
    "\n",
    "    def getName(self):\n",
    "        return self._name\n",
    "\n",
    "    def setRollNumber(self, rollNumber):\n",
    "        self._rollNumber = rollNumber\n",
    "\n",
    "    def getRollNumber(self):\n",
    "        return self._rollNumber\n",
    "\n",
    "# Testing the Student class\n",
    "student1 = Student()\n",
    "\n",
    "# Setting name and roll number using the setter methods\n",
    "student1.setName(\"John Doe\")\n",
    "student1.setRollNumber(\"12345\")\n",
    "\n",
    "# Getting name and roll number using the getter methods\n",
    "print(student1.getName())        # Output: \"John Doe\"\n",
    "print(student1.getRollNumber())  # Output: \"12345\"\n"
   ]
  },
  {
   "cell_type": "markdown",
   "id": "63c2aa7d",
   "metadata": {},
   "source": [
    "#### Challenge 4: Implement a Banking Account\n",
    "In this challenge, you will implement a banking account using the concepts of inheritance.\n",
    "\n",
    "Problem statement: Implement the basic structure of a parent class, Account, and a child class, SavingsAccount.\n",
    "\n",
    "Task 1- Implement properties as instance variables, and set them to None or 0.\n",
    "\n",
    "Task 2- Create an initializer for Account class. The order of parameters should be the following\n",
    "\n",
    "Task 3- Implement properties as instance variables, and set them to None or 0.        "
   ]
  },
  {
   "cell_type": "code",
   "execution_count": 21,
   "id": "6dc4b9e9",
   "metadata": {},
   "outputs": [],
   "source": [
    "# Task 1: Implement properties as instance variables, and set them to None or 0.\n",
    "\n",
    "class Account:\n",
    "    def __init__(self):\n",
    "        # Initializing properties for the Account class\n",
    "        self.title = None   \n",
    "        self.balance = 0    \n",
    "class SavingsAccount(Account):\n",
    "    def __init__(self):\n",
    "      \n",
    "        super().__init__()\n",
    "        self.interestRate = 0"
   ]
  },
  {
   "cell_type": "code",
   "execution_count": 22,
   "id": "af414cc3",
   "metadata": {},
   "outputs": [],
   "source": [
    "# Task 2: Create an initializer for the Account class.\n",
    "\n",
    "class Account:\n",
    "    def __init__(self, title, balance):\n",
    "        # Initializing properties for the Account class using parameters\n",
    "        self.title = title      \n",
    "        self.balance = balance "
   ]
  },
  {
   "cell_type": "code",
   "execution_count": 26,
   "id": "30ecb51b",
   "metadata": {},
   "outputs": [],
   "source": [
    "# Task 3: Create an initializer for the SavingsAccount class using the initializer of the Account class.\n",
    "\n",
    "class SavingsAccount(Account):\n",
    "    def __init__(self, title, balance, interestRate):\n",
    "       \n",
    "        super().__init__(title, balance)\n",
    "        self.interestRate = interestRate \n",
    "\n",
    "\n",
    "demo1 = SavingsAccount(\"Ashish\", 5000, 5)\n",
    "\n"
   ]
  },
  {
   "cell_type": "code",
   "execution_count": 24,
   "id": "14aa06fd",
   "metadata": {},
   "outputs": [
    {
     "name": "stdout",
     "output_type": "stream",
     "text": [
      "Ashish\n",
      "5000\n",
      "5\n"
     ]
    }
   ],
   "source": [
    "# Output of the test code\n",
    "\n",
    "print(demo1.title)          \n",
    "print(demo1.balance)        \n",
    "print(demo1.interestRate)   "
   ]
  },
  {
   "cell_type": "markdown",
   "id": "de4e7460",
   "metadata": {},
   "source": [
    "#### Challenge 5: Handling a Bank Account\n",
    "In this challenge, you will define methods for handling a bank account using concepts of inheritance.\n",
    "\n",
    "Problem statement: In this challenge, we will be extending the previous challenge and implementing methods in the parent \n",
    "                   class and its corresponding child class.The initializers for both classes have been defined for you.\n",
    "\n",
    "Task 1- In the Account class, implement the getBalance() method that returns balance.\n",
    "\n",
    "Task 2- In the Account class, implement the deposit(amount) method that adds amount to the balance.\n",
    "\n",
    "It does not return anything.\n",
    "\n",
    "Task 3- In the Account class, implement the withdrawal(amount) method that subtracts the amount from the balance.\n",
    "\n",
    "It does not return anything."
   ]
  },
  {
   "cell_type": "code",
   "execution_count": 12,
   "id": "ff7053f1",
   "metadata": {},
   "outputs": [],
   "source": [
    "class Account:\n",
    "    def __init__(self, title=None, balance=0):\n",
    "        self.title = title\n",
    "        self.balance = balance\n",
    "\n",
    "    def withdrawal(self, amount):\n",
    "        self.balance -= amount\n",
    "\n",
    "    def deposit(self, amount):\n",
    "        self.balance += amount\n",
    "\n",
    "    def getBalance(self):\n",
    "        return self.balance\n",
    "\n",
    "class SavingsAccount(Account):\n",
    "    def __init__(self, title=None, balance=0, interestRate=0):\n",
    "        super().__init__(title, balance)\n",
    "        self.interestRate = interestRate\n",
    "\n",
    "    def interestAmount(self):\n",
    "        return self.balance * self.interestRate / 100\n",
    "\n",
    "# code to test\n",
    "# initializing a SavingsAccount object\n",
    "\n",
    "demo1 = SavingsAccount(\"Ashish\", 2000, 5)   \n"
   ]
  },
  {
   "cell_type": "code",
   "execution_count": 9,
   "id": "c56164a6",
   "metadata": {},
   "outputs": [
    {
     "name": "stdout",
     "output_type": "stream",
     "text": [
      "2500\n"
     ]
    }
   ],
   "source": [
    "# Testing Task 1 and Task 2\n",
    "demo1.deposit(500)\n",
    "print(demo1.getBalance()) "
   ]
  },
  {
   "cell_type": "code",
   "execution_count": 10,
   "id": "ba332815",
   "metadata": {},
   "outputs": [
    {
     "name": "stdout",
     "output_type": "stream",
     "text": [
      "2000\n"
     ]
    }
   ],
   "source": [
    "# Testing Task 3\n",
    "demo1.withdrawal(500)\n",
    "print(demo1.getBalance()) "
   ]
  },
  {
   "cell_type": "code",
   "execution_count": 11,
   "id": "c46fd20b",
   "metadata": {},
   "outputs": [
    {
     "name": "stdout",
     "output_type": "stream",
     "text": [
      "100.0\n"
     ]
    }
   ],
   "source": [
    "# Testing Task 4\n",
    "print(demo1.interestAmount()) \n"
   ]
  },
  {
   "cell_type": "code",
   "execution_count": null,
   "id": "6d4984f0",
   "metadata": {},
   "outputs": [],
   "source": []
  }
 ],
 "metadata": {
  "kernelspec": {
   "display_name": "Python 3 (ipykernel)",
   "language": "python",
   "name": "python3"
  },
  "language_info": {
   "codemirror_mode": {
    "name": "ipython",
    "version": 3
   },
   "file_extension": ".py",
   "mimetype": "text/x-python",
   "name": "python",
   "nbconvert_exporter": "python",
   "pygments_lexer": "ipython3",
   "version": "3.9.13"
  }
 },
 "nbformat": 4,
 "nbformat_minor": 5
}
