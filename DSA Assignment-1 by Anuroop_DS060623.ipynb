{
 "cells": [
  {
   "cell_type": "markdown",
   "id": "77eeedf5",
   "metadata": {},
   "source": [
    "#### Assignment-1: Linear Data Structures By Anuroop "
   ]
  },
  {
   "cell_type": "markdown",
   "id": "1b49c77b",
   "metadata": {},
   "source": [
    "##### Q1. Write a program to find all pairs of an integer array whose sum is equal to a given number?"
   ]
  },
  {
   "cell_type": "code",
   "execution_count": 1,
   "id": "b6189014",
   "metadata": {},
   "outputs": [
    {
     "name": "stdout",
     "output_type": "stream",
     "text": [
      "Pairs with sum 7:\n",
      "(3, 4)\n",
      "(5, 2)\n",
      "(4, 3)\n",
      "(9, -2)\n"
     ]
    }
   ],
   "source": [
    "def find_pairs_with_sum(arrr, target_sum):\n",
    "    pairs = []\n",
    "    seen = set()\n",
    "\n",
    "    for num in arrr:\n",
    "        complement = target_sum - num\n",
    "        if complement in seen:\n",
    "            pairs.append((num, complement))\n",
    "        seen.add(num)\n",
    "\n",
    "    return pairs\n",
    "\n",
    "\n",
    "arrr = [2, 4, 3, 5, 6, -2, 4, 7, 8, 9]\n",
    "target_sum = 7\n",
    "result = find_pairs_with_sum(arrr, target_sum)\n",
    "\n",
    "if result:\n",
    "    print(f\"Pairs with sum {target_sum}:\")\n",
    "    for pair in result:\n",
    "        print(pair)\n",
    "else:\n",
    "    print(\"No pairs found !\")\n"
   ]
  },
  {
   "cell_type": "markdown",
   "id": "8c0006aa",
   "metadata": {},
   "source": [
    "##### Q2. Write a program to reverse an array in place? In place means you cannot create a new array. You have to update the original array."
   ]
  },
  {
   "cell_type": "code",
   "execution_count": 2,
   "id": "64f2671f",
   "metadata": {},
   "outputs": [
    {
     "name": "stdout",
     "output_type": "stream",
     "text": [
      "Original array: [1, 2, 3, 4, 5, 6, 7, 8, 9, 10]\n",
      "Reversed array: [10, 9, 8, 7, 6, 5, 4, 3, 2, 1]\n"
     ]
    }
   ],
   "source": [
    "def reverse_array_in_place(arr):\n",
    "    start = 0\n",
    "    end = len(arr) - 1\n",
    "\n",
    "    while start < end:\n",
    "        arr[start], arr[end] = arr[end], arr[start]\n",
    "        start += 1\n",
    "        end -= 1\n",
    "\n",
    "arr = [1, 2, 3, 4, 5, 6, 7, 8, 9, 10]\n",
    "print(\"Original array:\", arr)\n",
    "reverse_array_in_place(arr)\n",
    "print(\"Reversed array:\", arr)\n"
   ]
  },
  {
   "cell_type": "markdown",
   "id": "a0ccda44",
   "metadata": {},
   "source": [
    "##### Q3. Write a program to check if two strings are a rotation of each other?"
   ]
  },
  {
   "cell_type": "code",
   "execution_count": 3,
   "id": "c421f241",
   "metadata": {},
   "outputs": [
    {
     "name": "stdout",
     "output_type": "stream",
     "text": [
      "hello and lohel are rotations of eachother.\n"
     ]
    }
   ],
   "source": [
    "def are_rotations(str1, str2):\n",
    "    if len(str1) != len(str2):\n",
    "        return False\n",
    "    \n",
    "    concatenated_str = str1 + str1\n",
    "    if str2 in concatenated_str:\n",
    "        return True\n",
    "    else:\n",
    "        return False\n",
    "\n",
    "#Example \n",
    "str1 = \"hello\"\n",
    "str2 = \"lohel\"\n",
    "if are_rotations(str1, str2):\n",
    "    print(f\"{str1} and {str2} are rotations of eachother.\")\n",
    "else:\n",
    "    print(f\"{str1} and {str2} are not rotations of eachother.\")\n"
   ]
  },
  {
   "cell_type": "markdown",
   "id": "e91e1ceb",
   "metadata": {},
   "source": [
    "##### Q4. Write a program to print the first non-repeated character from a string?"
   ]
  },
  {
   "cell_type": "code",
   "execution_count": 4,
   "id": "134d4005",
   "metadata": {},
   "outputs": [
    {
     "name": "stdout",
     "output_type": "stream",
     "text": [
      "The first non-repeated character in 'abacdbe' is 'c'.\n"
     ]
    }
   ],
   "source": [
    "def find_first_non_repeated_char(input_str):\n",
    "    char_frequency = {}\n",
    "\n",
    "    for char in input_str:\n",
    "        if char in char_frequency:\n",
    "            char_frequency[char] += 1\n",
    "        else:\n",
    "            char_frequency[char] = 1\n",
    "\n",
    "#first non-repeated character\n",
    "    for char in input_str:\n",
    "        if char_frequency[char] == 1:\n",
    "            return char\n",
    "    \n",
    "    return None \n",
    "\n",
    "#Example\n",
    "input_str = \"abacdbe\"\n",
    "result = find_first_non_repeated_char(input_str)\n",
    "\n",
    "if result:\n",
    "    print(f\"The first non-repeated character in '{input_str}' is '{result}'.\")\n",
    "else:\n",
    "    print(f\"There're no non-repeated characters in '{input_str}'.\")\n"
   ]
  },
  {
   "cell_type": "markdown",
   "id": "9073fabc",
   "metadata": {},
   "source": [
    "##### Q5. Read about the Tower of Hanoi algorithm. Write a program to implement it."
   ]
  },
  {
   "cell_type": "code",
   "execution_count": 5,
   "id": "b48548e2",
   "metadata": {},
   "outputs": [
    {
     "name": "stdout",
     "output_type": "stream",
     "text": [
      "Move disk 1 from A to C\n",
      "Move disk 2 from A to B\n",
      "Move disk 1 from C to B\n",
      "Move disk 3 from A to C\n",
      "Move disk 1 from B to A\n",
      "Move disk 2 from B to C\n",
      "Move disk 1 from A to C\n"
     ]
    }
   ],
   "source": [
    "def solve_tower_of_hanoi(n, source, auxiliary, target):\n",
    "    if n > 0:\n",
    "       \n",
    "        solve_tower_of_hanoi(n - 1, source, target, auxiliary)\n",
    "        \n",
    "        print(f\"Move disk {n} from {source} to {target}\")\n",
    "        solve_tower_of_hanoi(n - 1, auxiliary, source, target)\n",
    "\n",
    "num_disks = 3\n",
    "solve_tower_of_hanoi(num_disks, 'A', 'B', 'C')\n"
   ]
  },
  {
   "cell_type": "markdown",
   "id": "a6a702d7",
   "metadata": {},
   "source": [
    "##### Q6. Read about infix, prefix, and postfix expressions. Write a program to convert postfix to prefix expression. "
   ]
  },
  {
   "cell_type": "code",
   "execution_count": 6,
   "id": "a384bbbf",
   "metadata": {},
   "outputs": [
    {
     "name": "stdout",
     "output_type": "stream",
     "text": [
      "Postfix expression: 23+45*6-\n",
      "Prefix expression: +23\n"
     ]
    }
   ],
   "source": [
    "def postfix_to_prefix(postfix):\n",
    "    stack = []\n",
    "    \n",
    "    for token in postfix:\n",
    "        if token.isalnum():\n",
    "            stack.append(token)\n",
    "        else:\n",
    "            operand2 = stack.pop()\n",
    "            operand1 = stack.pop()\n",
    "            expression = token + operand1 + operand2\n",
    "            stack.append(expression)\n",
    "    \n",
    "    return stack[0]\n",
    "\n",
    "\n",
    "postfix_expression = \"23+45*6-\"\n",
    "prefix_expression = postfix_to_prefix(postfix_expression)\n",
    "print(\"Postfix expression:\", postfix_expression)\n",
    "print(\"Prefix expression:\", prefix_expression)\n"
   ]
  },
  {
   "cell_type": "markdown",
   "id": "ecf9bb54",
   "metadata": {},
   "source": [
    "##### Q7. Write a program to convert prefix expression to infix expression."
   ]
  },
  {
   "cell_type": "code",
   "execution_count": 7,
   "id": "f0345b8a",
   "metadata": {},
   "outputs": [
    {
     "name": "stdout",
     "output_type": "stream",
     "text": [
      "Prefix expression: -+23*456\n",
      "Infix expression: 6\n"
     ]
    }
   ],
   "source": [
    "def is_operator(char):\n",
    "    return char in \"+-*/\"\n",
    "\n",
    "def prefix_to_infix(prefix):\n",
    "    stack = []\n",
    "    \n",
    "    for token in reversed(prefix):\n",
    "        if token.isalnum():\n",
    "            stack.append(token)\n",
    "        elif is_operator(token):\n",
    "            operand1 = stack.pop()\n",
    "            operand2 = stack.pop()\n",
    "            expression = f\"({operand1}{token}{operand2})\"\n",
    "            stack.append(expression)\n",
    "    \n",
    "    return stack[0]\n",
    "#usage\n",
    "prefix_expression = \"-+23*456\"\n",
    "infix_expression = prefix_to_infix(prefix_expression)\n",
    "print(\"Prefix expression:\", prefix_expression)\n",
    "print(\"Infix expression:\", infix_expression)\n"
   ]
  },
  {
   "cell_type": "markdown",
   "id": "9af849df",
   "metadata": {},
   "source": [
    "##### Q8. Write a program to check if all the brackets are closed in a given code snippet."
   ]
  },
  {
   "cell_type": "code",
   "execution_count": 8,
   "id": "0ac14a30",
   "metadata": {},
   "outputs": [
    {
     "name": "stdout",
     "output_type": "stream",
     "text": [
      "All brackets are properly closed.\n"
     ]
    }
   ],
   "source": [
    "def check_closed_brackets(code):\n",
    "    stack = []\n",
    "    brackets_map = {')': '(', ']': '[', '}': '{'}\n",
    "\n",
    "    for char in code:\n",
    "        if char in '([{':\n",
    "            stack.append(char)\n",
    "        elif char in ')]}':\n",
    "            if not stack or stack[-1] != brackets_map[char]:\n",
    "                return False\n",
    "            stack.pop()\n",
    "\n",
    "    return not stack\n",
    "\n",
    "# Example\n",
    "code_snippet = \"(a + [b * c]) / {d + e}\"\n",
    "if check_closed_brackets(code_snippet):\n",
    "    print(\"All brackets are properly closed.\")\n",
    "else:\n",
    "    print(\"Some brackets are not properly closed.\")\n"
   ]
  },
  {
   "cell_type": "markdown",
   "id": "1654d155",
   "metadata": {},
   "source": [
    "##### Q9. Write a program to reverse a stack."
   ]
  },
  {
   "cell_type": "code",
   "execution_count": 9,
   "id": "bb74fb01",
   "metadata": {},
   "outputs": [
    {
     "name": "stdout",
     "output_type": "stream",
     "text": [
      "Original stack:\n",
      "Reversed stack:\n",
      "1\n",
      "2\n",
      "3\n",
      "4\n"
     ]
    }
   ],
   "source": [
    "class Stack:\n",
    "    def __init__(self):\n",
    "        self.items = []\n",
    "\n",
    "    def is_empty(self):\n",
    "        return len(self.items) == 0\n",
    "\n",
    "    def push(self, item):\n",
    "        self.items.append(item)\n",
    "\n",
    "    def pop(self):\n",
    "        if not self.is_empty():\n",
    "            return self.items.pop()\n",
    "\n",
    "    def peek(self):\n",
    "        if not self.is_empty():\n",
    "            return self.items[-1]\n",
    "\n",
    "    def size(self):\n",
    "        return len(self.items)\n",
    "\n",
    "def reverse_stack(stack):\n",
    "    aux_stack = Stack()\n",
    "\n",
    "    while not stack.is_empty():\n",
    "        aux_stack.push(stack.pop())\n",
    "\n",
    "    return aux_stack\n",
    "\n",
    "# Example usage\n",
    "original_stack = Stack()\n",
    "original_stack.push(1)\n",
    "original_stack.push(2)\n",
    "original_stack.push(3)\n",
    "original_stack.push(4)\n",
    "\n",
    "reversed_stack = reverse_stack(original_stack)\n",
    "\n",
    "print(\"Original stack:\")\n",
    "while not original_stack.is_empty():\n",
    "    print(original_stack.pop())\n",
    "\n",
    "print(\"Reversed stack:\")\n",
    "while not reversed_stack.is_empty():\n",
    "    print(reversed_stack.pop())\n",
    "\n"
   ]
  },
  {
   "cell_type": "markdown",
   "id": "ecdafa6a",
   "metadata": {},
   "source": [
    "##### Q10. Write a program to find the smallest number using a stack."
   ]
  },
  {
   "cell_type": "code",
   "execution_count": 10,
   "id": "bc828b2d",
   "metadata": {},
   "outputs": [
    {
     "name": "stdout",
     "output_type": "stream",
     "text": [
      "Smallest number: 1\n",
      "Smallest number after popping: 2\n"
     ]
    }
   ],
   "source": [
    "class StackWithMin:\n",
    "    def __init__(self):\n",
    "        self.items = []\n",
    "        self.min_stack = []\n",
    "\n",
    "    def push(self, item):\n",
    "        self.items.append(item)\n",
    "        if not self.min_stack or item <= self.min_stack[-1]:\n",
    "            self.min_stack.append(item)\n",
    "\n",
    "    def pop(self):\n",
    "        if not self.items:\n",
    "            return None\n",
    "        if self.items[-1] == self.min_stack[-1]:\n",
    "            self.min_stack.pop()\n",
    "        return self.items.pop()\n",
    "\n",
    "    def get_min(self):\n",
    "        if not self.min_stack:\n",
    "            return None\n",
    "        return self.min_stack[-1]\n",
    "\n",
    "# Example\n",
    "stack = StackWithMin()\n",
    "stack.push(4)\n",
    "stack.push(2)\n",
    "stack.push(6)\n",
    "stack.push(1)\n",
    "stack.push(5)\n",
    "\n",
    "print(\"Smallest number:\", stack.get_min()) \n",
    "\n",
    "stack.pop()\n",
    "stack.pop()\n",
    "\n",
    "print(\"Smallest number after popping:\", stack.get_min()) \n"
   ]
  },
  {
   "cell_type": "code",
   "execution_count": null,
   "id": "908d9dd8",
   "metadata": {},
   "outputs": [],
   "source": []
  }
 ],
 "metadata": {
  "kernelspec": {
   "display_name": "Python 3 (ipykernel)",
   "language": "python",
   "name": "python3"
  },
  "language_info": {
   "codemirror_mode": {
    "name": "ipython",
    "version": 3
   },
   "file_extension": ".py",
   "mimetype": "text/x-python",
   "name": "python",
   "nbconvert_exporter": "python",
   "pygments_lexer": "ipython3",
   "version": "3.11.3"
  }
 },
 "nbformat": 4,
 "nbformat_minor": 5
}
