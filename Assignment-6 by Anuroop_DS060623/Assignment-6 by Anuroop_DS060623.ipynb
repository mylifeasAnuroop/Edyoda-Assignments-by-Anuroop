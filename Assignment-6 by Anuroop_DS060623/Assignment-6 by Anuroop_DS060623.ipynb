{
 "cells": [
  {
   "cell_type": "markdown",
   "id": "5310b2d0",
   "metadata": {},
   "source": [
    "### Assignment-6: JSON and OOP Assignment By Anuroop Arya"
   ]
  },
  {
   "cell_type": "markdown",
   "id": "92199389",
   "metadata": {},
   "source": [
    "#### ASSIGNMENT- 1         \n",
    "Q1: Read Employee Information from JSON File"
   ]
  },
  {
   "cell_type": "code",
   "execution_count": 1,
   "id": "cf3d2ecf",
   "metadata": {},
   "outputs": [
    {
     "name": "stdout",
     "output_type": "stream",
     "text": [
      "Name: Anuroop Arya, DOB: 2000-05-15, Height: 175, City: Nainital, State: Uttarakhand\n",
      "Name: sarthak goel, DOB: 1985-12-10, Height: 162, City: Meerut, State: Uttar- pradesh\n",
      "Name: shaurya sharma, DOB: 1992-08-23, Height: 150, City: Delhi, State: Delhi\n",
      "Name: Karan Arya, DOB: 1988-04-03, Height: 168, City: Bhopal, State: Madhya pradesh\n",
      "Name: Rohit Saxena, DOB: 2015-10-05, Height: 172, City: Haridwar, State: Uttarakhand\n"
     ]
    }
   ],
   "source": [
    "import json\n",
    "\n",
    "class Employee:\n",
    "    def __init__(self, name, dob, height, city, state):\n",
    "        self.name = name\n",
    "        self.dob = dob\n",
    "        self.height = height\n",
    "        self.city = city\n",
    "        self.state = state\n",
    "\n",
    "def read_employee_data_from_json(file_path):\n",
    "    employees = []\n",
    "    with open(file_path, 'r') as file:\n",
    "        data = json.load(file)\n",
    "        for emp_data in data['employees']:\n",
    "            employee = Employee(\n",
    "                emp_data['Name'],\n",
    "                emp_data['DOB'],\n",
    "                emp_data['Height'],\n",
    "                emp_data['City'],\n",
    "                emp_data['State']\n",
    "            )\n",
    "            employees.append(employee)\n",
    "    return employees\n",
    "\n",
    "def print_employee_list(employee_list):\n",
    "    for employee in employee_list:\n",
    "        print(f\"Name: {employee.name}, DOB: {employee.dob}, Height: {employee.height}, City: {employee.city}, State: {employee.state}\")\n",
    "\n",
    "if __name__ == \"__main__\":\n",
    "    file_path = \"employee.json\"\n",
    "    employees = read_employee_data_from_json(file_path)\n",
    "    print_employee_list(employees)\n"
   ]
  },
  {
   "cell_type": "markdown",
   "id": "25d3d701",
   "metadata": {},
   "source": [
    "Q2: Create Indian States and Capitals JSON"
   ]
  },
  {
   "cell_type": "code",
   "execution_count": null,
   "id": "396ee684",
   "metadata": {},
   "outputs": [],
   "source": [
    "import json\n",
    "\n",
    "indian_states_capitals = {\n",
    "    \"Andhra Pradesh\": \"Hyderabad\",\n",
    "    \"Arunachal Pradesh\": \"Itanagar\",\n",
    "    \"Assam\": \"Dispur\",\n",
    "    \"Bihar\": \"Patna\",\n",
    "    \"Gujarat\": \"Gandhinagar\",\n",
    "    \"Karnataka\": \"Bengaluru\",\n",
    "    \"Maharashtra\": \"Mumbai\"\n",
    "}\n",
    "\n",
    "def write_states_capitals_to_json(data, file_path):\n",
    "    with open(file_path, 'w') as file:\n",
    "        json.dump(data, file, indent=4)\n",
    "\n",
    "if __name__ == \"__main__\":\n",
    "    file_path = \"indian_states.json\"\n",
    "    write_states_capitals_to_json(indian_states_capitals, file_path)\n"
   ]
  },
  {
   "cell_type": "markdown",
   "id": "f396f05f",
   "metadata": {},
   "source": [
    "#### Assignment 2\n",
    "1. Create a class named ‘Dog’. It should have a constructor which accepts its name, age and coat color.\n",
    "You must perform the following operations:"
   ]
  },
  {
   "cell_type": "code",
   "execution_count": 3,
   "id": "e2a02771",
   "metadata": {},
   "outputs": [
    {
     "name": "stdout",
     "output_type": "stream",
     "text": [
      "Name: Buddy, Age: 3\n",
      "Coat Color: Golden\n",
      "Name: Max, Age: 2\n",
      "Coat Color: White with brown spots\n",
      "Max is a Jack Russell Terrier with a lively and intelligent nature.\n",
      "Name: Rocky, Age: 4\n",
      "Coat Color: Brown\n",
      "Rocky is a Bulldog with weight 25 kg.\n"
     ]
    }
   ],
   "source": [
    "class Dog:\n",
    "    def __init__(self, name, age, coat_color):\n",
    "        self.name = name\n",
    "        self.age = age\n",
    "        self.coat_color = coat_color\n",
    "\n",
    "    def description(self):\n",
    "        print(f\"Name: {self.name}, Age: {self.age}\")\n",
    "\n",
    "    def get_info(self):\n",
    "        print(f\"Coat Color: {self.coat_color}\")\n",
    "\n",
    "\n",
    "class JackRussellTerrier(Dog):\n",
    "    def __init__(self, name, age, coat_color, characteristic):\n",
    "        super().__init__(name, age, coat_color)\n",
    "        self.characteristic = characteristic\n",
    "\n",
    "    def display_characteristic(self):\n",
    "        print(f\"{self.name} is a Jack Russell Terrier with {self.characteristic}.\")\n",
    "\n",
    "\n",
    "class Bulldog(Dog):\n",
    "    def __init__(self, name, age, coat_color, weight):\n",
    "        super().__init__(name, age, coat_color)\n",
    "        self.weight = weight\n",
    "\n",
    "    def display_weight(self):\n",
    "        print(f\"{self.name} is a Bulldog with weight {self.weight} kg.\")\n",
    "\n",
    "\n",
    "if __name__ == \"__main__\":\n",
    "#Dog object\n",
    "    dog1 = Dog(\"Buddy\", 3, \"Golden\")\n",
    "\n",
    "#Call functions of the Dog class\n",
    "    dog1.description()\n",
    "    dog1.get_info()\n",
    "\n",
    "#JackRussellTerrier object\n",
    "    jack_russell = JackRussellTerrier(\"Max\", 2, \"White with brown spots\", \"a lively and intelligent nature\")\n",
    "\n",
    "#Call functions of the JackRussellTerrier class\n",
    "    jack_russell.description()\n",
    "    jack_russell.get_info()\n",
    "    jack_russell.display_characteristic()\n",
    "\n",
    "#Create a Bulldog object\n",
    "    bulldog1 = Bulldog(\"Rocky\", 4, \"Brown\", 25)\n",
    "\n",
    "#Call functions of the Bulldog class\n",
    "    bulldog1.description()\n",
    "    bulldog1.get_info()\n",
    "    bulldog1.display_weight()\n"
   ]
  },
  {
   "cell_type": "code",
   "execution_count": null,
   "id": "91504be5",
   "metadata": {},
   "outputs": [],
   "source": []
  }
 ],
 "metadata": {
  "kernelspec": {
   "display_name": "Python 3 (ipykernel)",
   "language": "python",
   "name": "python3"
  },
  "language_info": {
   "codemirror_mode": {
    "name": "ipython",
    "version": 3
   },
   "file_extension": ".py",
   "mimetype": "text/x-python",
   "name": "python",
   "nbconvert_exporter": "python",
   "pygments_lexer": "ipython3",
   "version": "3.11.3"
  }
 },
 "nbformat": 4,
 "nbformat_minor": 5
}
