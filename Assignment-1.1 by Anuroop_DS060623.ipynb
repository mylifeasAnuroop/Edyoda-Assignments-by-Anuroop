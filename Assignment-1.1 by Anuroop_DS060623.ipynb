{
 "cells": [
  {
   "cell_type": "markdown",
   "id": "91c35e17",
   "metadata": {},
   "source": [
    "#### Find and read 20 interview questions for Data Types, Operators, Conditional Statements, Looping Statements, Functions.\n",
    "\n",
    "By Anuroop Arya"
   ]
  },
  {
   "cell_type": "markdown",
   "id": "7075880e",
   "metadata": {},
   "source": [
    "#### Q1 What are compound data types ?\n",
    "The data type that is constructed using simple, primitive, \n",
    "and basic data types are compound data types. \n"
   ]
  },
  {
   "cell_type": "markdown",
   "id": "5571d795",
   "metadata": {},
   "source": [
    "#### Q2 What is the difference between a list and a tuple?\n",
    "\n",
    "Lists are enclosed with in square []\n",
    "Lists are mutable, that is their elements and size can be changed.\n",
    "Lists are slower than tuples.\n",
    "Example: [‘A’, 1, ‘i’]\n",
    "\n",
    "Tuples are enclosed in parentheses ()\n",
    "Tuples are immutable i.e cannot be edited.\n",
    "Tuples are faster than lists.\n",
    "Tuples must be used when the order of the elements of a sequence matters.\n",
    "Example: (‘Twenty’, 20, ‘XX’)\n",
    "\n"
   ]
  },
  {
   "cell_type": "markdown",
   "id": "16f3948a",
   "metadata": {},
   "source": [
    "#### Q3 What are the built-in type does python provides?\n",
    "There are mutable and Immutable types of Pythons built in types\n",
    "Mutable built-in types -- List,sets,dictionaries\n",
    "Immutable built-in types -- strings,tuples,numbers"
   ]
  },
  {
   "cell_type": "markdown",
   "id": "3840a9ab",
   "metadata": {},
   "source": [
    "#### Q4 What is dictionary in Python?\n",
    "\n",
    "Python dictionary is an unordered collection of items.\n",
    "While other compound data types have only value as an element,\n",
    "a dictionary has a key: value pair.\n",
    "Dictionaries are optimized to retrieve values when the key is known."
   ]
  },
  {
   "cell_type": "markdown",
   "id": "6a5c0bad",
   "metadata": {},
   "source": [
    "#### Q5 What is the difference between %, /, and  //\n",
    "\n",
    "% is the modulus operator that returns a remainder after the division.\n",
    "\n",
    "/ is the operator that returns the quotient after the division.\n",
    "\n",
    "// is the floor division that rounds off the quotient to the bottom.\n",
    "\n",
    "Ex-11 % 2 —> output = 1 ,11 / 2 —> output = 5.5,11 // 2 —> output = 5\n"
   ]
  },
  {
   "cell_type": "markdown",
   "id": "878c1d9c",
   "metadata": {},
   "source": [
    "#### Q6 What is the difference between indexing and slicing?\n",
    "\n",
    "Indexing is extracting or lookup one or particular values in a data structure, \n",
    "whereas slicing retrieves a sequence of elements."
   ]
  },
  {
   "cell_type": "markdown",
   "id": "f9bb0516",
   "metadata": {},
   "source": [
    "#### Q7 What are types of Operator are used in Python? \n",
    "Arithmetic Operators\n",
    "Comparison Operators\n",
    "Python Assignment Operators\n",
    "Logical Operators or Bitwise Operators\n",
    "Membership Operators\n",
    "Identity Operators\n",
    " "
   ]
  },
  {
   "cell_type": "markdown",
   "id": "cb846680",
   "metadata": {},
   "source": [
    "#### Q8 When do you choose a list over a tuple?\n",
    "\n",
    "When we need to modify the elements"
   ]
  },
  {
   "cell_type": "markdown",
   "id": "cb394261",
   "metadata": {},
   "source": [
    "#### Q9 What is pass in Python?\n",
    "\n",
    "Pass means, no-operation Python statement, \n",
    "or in other words it is a place holder in compound statement, \n",
    "where there should be a blank left and nothing has to be written there."
   ]
  },
  {
   "cell_type": "markdown",
   "id": "10c13ca2",
   "metadata": {},
   "source": [
    "#### Q10 What Does The Continue Do In Python? \n",
    "\n",
    "The continue is a jump statement in Python which moves the control to execute the next iteration in a loop leaving all the remaining instructions in the block unexecuted.\n",
    " \n",
    "The continue statement is applicable for both the “while” and “for” loops.\n",
    "\n",
    "When Should You Use The “Break” In Python? \n",
    "\n",
    "Python provides a break statement to exit from a loop. \n",
    "Whenever the break hits in the code, \n",
    "the control of the program immediately exits from the body of the loop.\n",
    " \n",
    "The break statement in a nested loop causes the control to exit from the inner iterative block."
   ]
  },
  {
   "cell_type": "markdown",
   "id": "c96758d8",
   "metadata": {},
   "source": [
    "#### Q11 What is the difference between del(), clear(), remove(),  and pop()?\n",
    "\n",
    "del(): deletes the with respect to the position of the value. It does not return which value is deleted. It also changes the index towards the right by decreasing one value. It can also be used to delete the entire data structure.\n",
    "clear(): clears the list.\n",
    "remove(): it deletes with respect to the value hence can be used if you know which particular value to delete.\n",
    "pop(): by default removes the last element and also returns back which value is deleted. It is used extensively when we would want to create referencing. In sense, we can store this deleted return value in a variable and use in future."
   ]
  },
  {
   "cell_type": "markdown",
   "id": "34881bef",
   "metadata": {},
   "source": [
    "#### Q12 When to use for loop and while loop?\n",
    "\n",
    "For loop is used when you know beforehand which elements need to be iterated.\n",
    "If you want to iterate over every element of the data structure, then use For loop.\n",
    "On the other hand, the While loop is used to check for some conditions on the variables. \n",
    "Here, we know the exact condition to run but do not know how many times to run the loop."
   ]
  },
  {
   "cell_type": "markdown",
   "id": "e767833f",
   "metadata": {},
   "source": [
    "#### Q13 What is the difference between print and return?\n",
    "\n",
    "The print does not store any value. It simply prints the value, \n",
    "whereas return gives the value as an output that can be stored in a variable \n",
    "or a data structure.\n"
   ]
  },
  {
   "cell_type": "markdown",
   "id": "b3e38c4d",
   "metadata": {},
   "source": [
    "#### Q14 What Are The Principal Differences Between The Lambda And Def?\n",
    "\n",
    "Def can hold multiple expressions while lambda is a uni-expression function.\n",
    "Def generates a function and designates a name to call it later. \n",
    " Lambda forms a function object and returns it.\n",
    "Def can have a return statement. Lambda can’t have return statements.\n",
    "Lambda supports to get used inside a list and dictionary."
   ]
  },
  {
   "cell_type": "markdown",
   "id": "c1931fc2",
   "metadata": {},
   "source": [
    "#### Q15 What is Regex? List some of the important Regex functions in Python.\n",
    "\n",
    "Regular Expression or RegEx is a sequence of characters that are used to create search patterns. In Python, the following RegEx functions are mostly used:\n",
    "\n",
    "match(): it checks for a match only at the beginning of the string.\n",
    "search(): it locates a substring matching the RegEx pattern anywhere in the string \n",
    "sub(): searches for the pattern and replaces with a new value\n",
    "split(): it is used to split the text by the given RegEx pattern.\n",
    "findall(): it is used to find all the sub-strings matching the RegEx pattern\n"
   ]
  },
  {
   "cell_type": "markdown",
   "id": "7988e63c",
   "metadata": {},
   "source": [
    "#### Q16 How do map, reduce and filter functions work?\n",
    "Map function applies the given function to all the iterable and \n",
    "returns a new modified list. \n",
    "It applies the same function to each element of a sequence. \n",
    "Reduce function applies the same operation to items of a sequence. It uses the result of operations as the first param of the next operation. It returns an item and not a list.\n",
    "\n",
    "Filter function filters an item out of a sequence. It is used to filter the given iterable (list, sets, tuple) with the help of another function passed as an argument to test all the elements to be true or false. Its output is a filtered list. "
   ]
  },
  {
   "cell_type": "markdown",
   "id": "7c6911c9",
   "metadata": {},
   "source": [
    "#### Q17 What is lambda in Python?\n",
    " \n",
    "anonymous function means that a function is without a name. As we already know that def keyword is used to define the normal functions and the lambda keyword is used to create anonymous functions.\n",
    "\n",
    "     lambda arguments: expressionQ17 What is lambda in Python?\n",
    " \n",
    "anonymous function means that a function is without a name. As we already know that def keyword is used to define the normal functions and the lambda keyword is used to create anonymous functions.\n",
    "\n",
    "     lambda arguments: expression"
   ]
  },
  {
   "cell_type": "markdown",
   "id": "8e41f9bf",
   "metadata": {},
   "source": [
    "#### Q18 Is It Mandatory For A Python Function To Return A Value? \n",
    "\n",
    "It is not at all necessary for a function to return any value. However,\n",
    "if needed, we can use None as a return value.\n"
   ]
  },
  {
   "cell_type": "markdown",
   "id": "d8a72344",
   "metadata": {},
   "source": [
    "#### Q19 What is a Counter in Python?\n",
    "\n",
    "The function Counter() from the module ‘collections’. \n",
    "It counts the number of occurrences of the elements of a container.\n"
   ]
  },
  {
   "cell_type": "markdown",
   "id": "9984db1e",
   "metadata": {},
   "source": [
    "#### Q20 What is *args and **kwargs?\n",
    "\n",
    "*args is used when the programmer is not sure about how many arguments are going to be passed to a function, or if the programmer is expecting a list or a tuple as argument to the function.\n",
    " \n",
    "**kwargs is used when a dictionary (keyword arguments) is expected as an argument to the function.\n",
    "'''"
   ]
  },
  {
   "cell_type": "code",
   "execution_count": null,
   "id": "504ccdad",
   "metadata": {},
   "outputs": [],
   "source": []
  },
  {
   "cell_type": "code",
   "execution_count": null,
   "id": "04b4cae8",
   "metadata": {},
   "outputs": [],
   "source": []
  },
  {
   "cell_type": "code",
   "execution_count": null,
   "id": "da7a441d",
   "metadata": {},
   "outputs": [],
   "source": []
  },
  {
   "cell_type": "code",
   "execution_count": null,
   "id": "a32e3fbe",
   "metadata": {},
   "outputs": [],
   "source": []
  },
  {
   "cell_type": "code",
   "execution_count": null,
   "id": "191d52c2",
   "metadata": {},
   "outputs": [],
   "source": []
  }
 ],
 "metadata": {
  "kernelspec": {
   "display_name": "Python 3 (ipykernel)",
   "language": "python",
   "name": "python3"
  },
  "language_info": {
   "codemirror_mode": {
    "name": "ipython",
    "version": 3
   },
   "file_extension": ".py",
   "mimetype": "text/x-python",
   "name": "python",
   "nbconvert_exporter": "python",
   "pygments_lexer": "ipython3",
   "version": "3.11.3"
  }
 },
 "nbformat": 4,
 "nbformat_minor": 5
}
