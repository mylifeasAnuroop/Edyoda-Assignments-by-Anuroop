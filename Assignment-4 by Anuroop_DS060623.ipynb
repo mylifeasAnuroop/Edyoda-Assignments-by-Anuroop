{
 "cells": [
  {
   "cell_type": "markdown",
   "id": "bac8e370",
   "metadata": {},
   "source": [
    "### Assignment- 4"
   ]
  },
  {
   "cell_type": "markdown",
   "id": "3c10c81a",
   "metadata": {},
   "source": [
    "#### Q.1- Write a Python program to create a lambda function that adds 25 to a given number passed in as an argument.\n",
    "\n"
   ]
  },
  {
   "cell_type": "code",
   "execution_count": 1,
   "id": "8c67e77c",
   "metadata": {},
   "outputs": [
    {
     "name": "stdout",
     "output_type": "stream",
     "text": [
      "Sample output is: 35\n"
     ]
    }
   ],
   "source": [
    "# Define the lambda function \n",
    "adding_25 = lambda x: x + 25\n",
    "\n",
    "input_number = 10\n",
    "result = adding_25(input_number)\n",
    "print(\"Sample output is:\", result)\n"
   ]
  },
  {
   "cell_type": "markdown",
   "id": "9fb6b64a",
   "metadata": {},
   "source": [
    "##### -By taking input from user.\n"
   ]
  },
  {
   "cell_type": "code",
   "execution_count": 2,
   "id": "36b9d473",
   "metadata": {},
   "outputs": [
    {
     "name": "stdout",
     "output_type": "stream",
     "text": [
      "Enter a number: 10\n",
      "Sample Output is: 35\n"
     ]
    }
   ],
   "source": [
    "# Define the lambda function \n",
    "adding_25 = lambda x : x + 25\n",
    "\n",
    "# Take input from the user \n",
    "try:\n",
    "    number = int(input(\"Enter a number: \"))\n",
    "    result = adding_25(number)\n",
    "    print(\"Sample Output is:\", result)\n",
    "    \n",
    "except ValueError:\n",
    "    print(\"Invalid ! Please enter a valid number.\")\n"
   ]
  },
  {
   "cell_type": "markdown",
   "id": "8eea5d96",
   "metadata": {},
   "source": [
    "#### Q.2- Write a Python program to triple all numbers of a given list of integers. Use Python map.\n",
    "sample list: [1, 2, 3, 4, 5, 6, 7]"
   ]
  },
  {
   "cell_type": "code",
   "execution_count": 3,
   "id": "b53153e9",
   "metadata": {},
   "outputs": [
    {
     "name": "stdout",
     "output_type": "stream",
     "text": [
      "Triple of list numbers:\n",
      " [3, 6, 9, 12, 15, 18, 21]\n"
     ]
    }
   ],
   "source": [
    "sample_list = [1, 2, 3, 4, 5, 6, 7]\n",
    "\n",
    "triple_numbers = lambda x: x * 3\n",
    "\n",
    "#Map to apply the lambda function to each element in the list\n",
    "\n",
    "Result_output = list(map(triple_numbers, sample_list))\n",
    "print(\"Triple of list numbers:\\n\",Result_output)\n"
   ]
  },
  {
   "cell_type": "markdown",
   "id": "0312f36e",
   "metadata": {},
   "source": [
    "#### Q.3- Write a Python program to square the elements of a list using map() function.\n",
    "\n",
    "Sample List: [4, 5, 2, 9]"
   ]
  },
  {
   "cell_type": "code",
   "execution_count": 4,
   "id": "96272190",
   "metadata": {},
   "outputs": [
    {
     "name": "stdout",
     "output_type": "stream",
     "text": [
      "Square the elements of the list:\n",
      " [16, 25, 4, 81]\n"
     ]
    }
   ],
   "source": [
    "sample_list = [4, 5, 2, 9]\n",
    "\n",
    "# Function to square a number\n",
    "def square_number(x):\n",
    "    return x ** 2\n",
    "\n",
    "#Map to apply the square function to each element in the list\n",
    "output = list(map(square_number, sample_list))\n",
    "print(\"Square the elements of the list:\\n\", output)\n"
   ]
  },
  {
   "cell_type": "code",
   "execution_count": null,
   "id": "cb23b53f",
   "metadata": {},
   "outputs": [],
   "source": []
  }
 ],
 "metadata": {
  "kernelspec": {
   "display_name": "Python 3 (ipykernel)",
   "language": "python",
   "name": "python3"
  },
  "language_info": {
   "codemirror_mode": {
    "name": "ipython",
    "version": 3
   },
   "file_extension": ".py",
   "mimetype": "text/x-python",
   "name": "python",
   "nbconvert_exporter": "python",
   "pygments_lexer": "ipython3",
   "version": "3.9.13"
  }
 },
 "nbformat": 4,
 "nbformat_minor": 5
}
