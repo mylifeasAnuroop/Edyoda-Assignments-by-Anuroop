{
 "cells": [
  {
   "cell_type": "markdown",
   "id": "79d64494",
   "metadata": {},
   "source": [
    "### Assignment-2"
   ]
  },
  {
   "cell_type": "markdown",
   "id": "8b508556",
   "metadata": {},
   "source": [
    "#### Q.1- Write a Python program to get a list, sorted in increasing order by the last element in each tuple from a given list of non-empty tuples\n",
    "\n",
    "\n",
    "\n",
    "Sample List : [(2, 5), (1, 2), (4, 4), (2, 3), (2, 1)]"
   ]
  },
  {
   "cell_type": "code",
   "execution_count": 1,
   "id": "d02db8a1",
   "metadata": {},
   "outputs": [
    {
     "name": "stdout",
     "output_type": "stream",
     "text": [
      "[(2, 1), (1, 2), (2, 3), (4, 4), (2, 5)]\n"
     ]
    }
   ],
   "source": [
    "tup =[(2, 5), (1, 2), (4, 4), (2, 3), (2, 1)] \n",
    "def Sort_Tuple(tuple): \n",
    "       \n",
    "# getting length of list of tuples\n",
    "    a = len(tuple) \n",
    "    for i in range(0, a): \n",
    "           \n",
    "        for j in range(0, a-i-1): \n",
    "            if (tuple[j][-1] > tuple[j + 1][-1]): \n",
    "                temp = tuple[j] \n",
    "                tuple[j]= tuple[j + 1] \n",
    "                tuple[j + 1]= temp \n",
    "    return tuple\n",
    "   \n",
    "tup =[(2, 5), (1, 2), (4, 4), (2, 3), (2, 1)]\n",
    "         \n",
    "print(Sort_Tuple(tup))"
   ]
  },
  {
   "cell_type": "markdown",
   "id": "644324d6",
   "metadata": {},
   "source": [
    "#### Q.2- Write a Python program to get a list, sorted in increasing order by the last element in each tuple from a given list of non-empty tuples"
   ]
  },
  {
   "cell_type": "code",
   "execution_count": 2,
   "id": "4a798aec",
   "metadata": {
    "scrolled": true
   },
   "outputs": [
    {
     "name": "stdout",
     "output_type": "stream",
     "text": [
      "{'a': 97, 'b': 98, 'c': 99, 'd': 100, 'e': 101, 'f': 102, 'g': 103, 'h': 104, 'i': 105, 'j': 106, 'k': 107, 'l': 108, 'm': 109, 'n': 110, 'o': 111, 'p': 112, 'q': 113, 'r': 114, 's': 115, 't': 116, 'u': 117, 'v': 118, 'w': 119, 'x': 120, 'y': 121, 'z': 122}\n"
     ]
    }
   ],
   "source": [
    "alphabet_dict = {}\n",
    "for i in range(ord('a'), ord('z')+1):\n",
    "    alphabet_dict[chr(i)] = i\n",
    "\n",
    "print(alphabet_dict)\n"
   ]
  },
  {
   "cell_type": "code",
   "execution_count": null,
   "id": "cd4baf0c",
   "metadata": {},
   "outputs": [],
   "source": []
  },
  {
   "cell_type": "code",
   "execution_count": null,
   "id": "9f22e31f",
   "metadata": {},
   "outputs": [],
   "source": []
  },
  {
   "cell_type": "code",
   "execution_count": null,
   "id": "7be857fc",
   "metadata": {},
   "outputs": [],
   "source": []
  },
  {
   "cell_type": "code",
   "execution_count": null,
   "id": "47048575",
   "metadata": {},
   "outputs": [],
   "source": []
  },
  {
   "cell_type": "code",
   "execution_count": null,
   "id": "1c2f0f8f",
   "metadata": {},
   "outputs": [],
   "source": []
  },
  {
   "cell_type": "code",
   "execution_count": null,
   "id": "ec0c58ad",
   "metadata": {},
   "outputs": [],
   "source": []
  },
  {
   "cell_type": "code",
   "execution_count": null,
   "id": "3512161e",
   "metadata": {},
   "outputs": [],
   "source": []
  }
 ],
 "metadata": {
  "kernelspec": {
   "display_name": "Python 3 (ipykernel)",
   "language": "python",
   "name": "python3"
  },
  "language_info": {
   "codemirror_mode": {
    "name": "ipython",
    "version": 3
   },
   "file_extension": ".py",
   "mimetype": "text/x-python",
   "name": "python",
   "nbconvert_exporter": "python",
   "pygments_lexer": "ipython3",
   "version": "3.9.13"
  }
 },
 "nbformat": 4,
 "nbformat_minor": 5
}
