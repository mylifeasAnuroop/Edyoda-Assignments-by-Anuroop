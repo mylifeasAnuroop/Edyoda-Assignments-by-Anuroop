{
 "cells": [
  {
   "cell_type": "markdown",
   "id": "7e3ed487",
   "metadata": {},
   "source": [
    "## Assignment-1"
   ]
  },
  {
   "cell_type": "markdown",
   "id": "cd70b9ba",
   "metadata": {},
   "source": [
    "### Q1- Write a Python program to get the Fibonacci series between 0 to 50"
   ]
  },
  {
   "cell_type": "code",
   "execution_count": 1,
   "id": "19356751",
   "metadata": {},
   "outputs": [
    {
     "name": "stdout",
     "output_type": "stream",
     "text": [
      "0 1 1 2 3 5 8 13 21 34 "
     ]
    }
   ],
   "source": [
    "\n",
    "num1, num2 = 0, 1\n",
    "print(num1, end=\" \")\n",
    "print(num2, end=\" \")\n",
    "\n",
    "for i in range(2, 50):\n",
    "    num3 = num1 + num2\n",
    "    if num3 <= 50:\n",
    "        print(num3, end=\" \")\n",
    "    else:\n",
    "        break\n",
    "        \n",
    "    num1 = num2\n",
    "    num2 = num3"
   ]
  },
  {
   "cell_type": "markdown",
   "id": "92120f3e",
   "metadata": {},
   "source": [
    "### Q2- Write a Python program that accepts a word from the user and reverse it."
   ]
  },
  {
   "cell_type": "code",
   "execution_count": 2,
   "id": "a4f68514",
   "metadata": {},
   "outputs": [
    {
     "name": "stdout",
     "output_type": "stream",
     "text": [
      "Enter a word to reverse: Edyoda\n",
      "Reversed Word: adoydE\n"
     ]
    }
   ],
   "source": [
    "word = input(\"Enter a word to reverse: \")\n",
    "input_word = word[::-1]\n",
    "\n",
    "print(\"Reversed Word:\",input_word )"
   ]
  },
  {
   "cell_type": "markdown",
   "id": "1b9aaa77",
   "metadata": {},
   "source": [
    "### Q3- Write a Python program to count the number of even and odd numbers from a series of numbers.\n",
    "Sample numbers : numbers = (1, 2, 3, 4, 5, 6, 7, 8, 9) "
   ]
  },
  {
   "cell_type": "code",
   "execution_count": 3,
   "id": "aeaaabf3",
   "metadata": {},
   "outputs": [
    {
     "name": "stdout",
     "output_type": "stream",
     "text": [
      "Number of even numbers: 4\n",
      "Number of odd numbers: 5\n"
     ]
    }
   ],
   "source": [
    "numbers = (1, 2, 3, 4, 5, 6, 7, 8, 9)\n",
    "\n",
    "even_counts = 0\n",
    "odd_counts = 0\n",
    "\n",
    "\n",
    "for num in numbers:\n",
    "    if num % 2 == 0:\n",
    "        even_counts += 1\n",
    "    else:\n",
    "        odd_counts += 1\n",
    "\n",
    "print(\"Number of even numbers:\", even_counts)\n",
    "print(\"Number of odd numbers:\", odd_counts)\n"
   ]
  },
  {
   "cell_type": "code",
   "execution_count": null,
   "id": "d1c851b2",
   "metadata": {},
   "outputs": [],
   "source": []
  },
  {
   "cell_type": "code",
   "execution_count": null,
   "id": "8c31a874",
   "metadata": {},
   "outputs": [],
   "source": []
  },
  {
   "cell_type": "code",
   "execution_count": null,
   "id": "71809492",
   "metadata": {},
   "outputs": [],
   "source": []
  }
 ],
 "metadata": {
  "kernelspec": {
   "display_name": "Python 3 (ipykernel)",
   "language": "python",
   "name": "python3"
  },
  "language_info": {
   "codemirror_mode": {
    "name": "ipython",
    "version": 3
   },
   "file_extension": ".py",
   "mimetype": "text/x-python",
   "name": "python",
   "nbconvert_exporter": "python",
   "pygments_lexer": "ipython3",
   "version": "3.9.13"
  }
 },
 "nbformat": 4,
 "nbformat_minor": 5
}
